{
 "cells": [
  {
   "cell_type": "markdown",
   "metadata": {},
   "source": [
    "# Modèle de recommandations de films "
   ]
  },
  {
   "cell_type": "markdown",
   "metadata": {},
   "source": [
    "## 1. Imports"
   ]
  },
  {
   "cell_type": "markdown",
   "metadata": {},
   "source": [
    "### 1.1 Libraries"
   ]
  },
  {
   "cell_type": "code",
   "execution_count": 1,
   "metadata": {},
   "outputs": [],
   "source": [
    "# builtin\n",
    "import os, time, sys, random\n",
    "\n",
    "# data\n",
    "import pandas as pd\n",
    "import numpy as np\n",
    "import requests\n",
    "import math\n",
    "\n",
    "# viz\n",
    "import seaborn as sns\n",
    "import matplotlib.pyplot as plt\n",
    "\n",
    "# other\n",
    "import warnings\n",
    "warnings.filterwarnings(\"ignore\")"
   ]
  },
  {
   "cell_type": "markdown",
   "metadata": {},
   "source": [
    "### 1.2 Download and options"
   ]
  },
  {
   "cell_type": "code",
   "execution_count": 2,
   "metadata": {},
   "outputs": [],
   "source": [
    "sns.set()"
   ]
  },
  {
   "cell_type": "markdown",
   "metadata": {},
   "source": [
    "### 1.3 Loading data"
   ]
  },
  {
   "cell_type": "code",
   "execution_count": 3,
   "metadata": {},
   "outputs": [],
   "source": [
    "# Env Perso\n",
    "#df = pd.read_csv(r\"C:\\Users\\derou\\OneDrive\\Bureau\\DATA\\PORTFOLIO\\Recommandation de films\\df_movies.csv\")\n",
    "\n",
    "# Env Vinci\n",
    "df = pd.read_csv(r\"C:\\Users\\melvin.derouk\\Desktop\\Data formation\\Movies-Recommandations\\df_movies.csv\")"
   ]
  },
  {
   "cell_type": "markdown",
   "metadata": {},
   "source": [
    "## 2. First tour"
   ]
  },
  {
   "cell_type": "markdown",
   "metadata": {},
   "source": [
    "### 2.1 Display"
   ]
  },
  {
   "cell_type": "code",
   "execution_count": 4,
   "metadata": {},
   "outputs": [],
   "source": [
    "df.drop(columns= \"Unnamed: 0\", inplace=True)"
   ]
  },
  {
   "cell_type": "code",
   "execution_count": 5,
   "metadata": {},
   "outputs": [
    {
     "data": {
      "text/html": [
       "<div>\n",
       "<style scoped>\n",
       "    .dataframe tbody tr th:only-of-type {\n",
       "        vertical-align: middle;\n",
       "    }\n",
       "\n",
       "    .dataframe tbody tr th {\n",
       "        vertical-align: top;\n",
       "    }\n",
       "\n",
       "    .dataframe thead th {\n",
       "        text-align: right;\n",
       "    }\n",
       "</style>\n",
       "<table border=\"1\" class=\"dataframe\">\n",
       "  <thead>\n",
       "    <tr style=\"text-align: right;\">\n",
       "      <th></th>\n",
       "      <th>ID</th>\n",
       "      <th>Titre</th>\n",
       "      <th>Genre</th>\n",
       "      <th>Date de sortie</th>\n",
       "      <th>Synopsis</th>\n",
       "      <th>Note</th>\n",
       "    </tr>\n",
       "  </thead>\n",
       "  <tbody>\n",
       "    <tr>\n",
       "      <th>0</th>\n",
       "      <td>507089</td>\n",
       "      <td>Five Nights at Freddy's</td>\n",
       "      <td>Horreur, Mystère</td>\n",
       "      <td>2023-10-25</td>\n",
       "      <td>Un groupe d'animaux animatroniques interprète ...</td>\n",
       "      <td>8.4</td>\n",
       "    </tr>\n",
       "    <tr>\n",
       "      <th>1</th>\n",
       "      <td>951491</td>\n",
       "      <td>Saw X</td>\n",
       "      <td>Horreur, Thriller</td>\n",
       "      <td>2023-09-26</td>\n",
       "      <td>Dans l'espoir d'une guérison miraculeuse, John...</td>\n",
       "      <td>7.4</td>\n",
       "    </tr>\n",
       "    <tr>\n",
       "      <th>2</th>\n",
       "      <td>939335</td>\n",
       "      <td>Muzzle</td>\n",
       "      <td>Action, Crime, Drame, Thriller</td>\n",
       "      <td>2023-09-29</td>\n",
       "      <td>Jake Rosser, officier de police dans l'équipe ...</td>\n",
       "      <td>6.3</td>\n",
       "    </tr>\n",
       "    <tr>\n",
       "      <th>3</th>\n",
       "      <td>354912</td>\n",
       "      <td>Coco</td>\n",
       "      <td>Familial, Animation, Fantastique, Musique, Com...</td>\n",
       "      <td>2017-10-27</td>\n",
       "      <td>Depuis déjà plusieurs générations, la musique ...</td>\n",
       "      <td>8.2</td>\n",
       "    </tr>\n",
       "    <tr>\n",
       "      <th>4</th>\n",
       "      <td>968051</td>\n",
       "      <td>La Nonne : La Malédiction de Sainte-Lucie</td>\n",
       "      <td>Horreur, Mystère, Thriller</td>\n",
       "      <td>2023-09-06</td>\n",
       "      <td>En France, en 1956, un prêtre est assassiné da...</td>\n",
       "      <td>7.0</td>\n",
       "    </tr>\n",
       "  </tbody>\n",
       "</table>\n",
       "</div>"
      ],
      "text/plain": [
       "       ID                                      Titre  \\\n",
       "0  507089                    Five Nights at Freddy's   \n",
       "1  951491                                      Saw X   \n",
       "2  939335                                     Muzzle   \n",
       "3  354912                                       Coco   \n",
       "4  968051  La Nonne : La Malédiction de Sainte-Lucie   \n",
       "\n",
       "                                               Genre Date de sortie  \\\n",
       "0                                   Horreur, Mystère     2023-10-25   \n",
       "1                                  Horreur, Thriller     2023-09-26   \n",
       "2                     Action, Crime, Drame, Thriller     2023-09-29   \n",
       "3  Familial, Animation, Fantastique, Musique, Com...     2017-10-27   \n",
       "4                         Horreur, Mystère, Thriller     2023-09-06   \n",
       "\n",
       "                                            Synopsis  Note  \n",
       "0  Un groupe d'animaux animatroniques interprète ...   8.4  \n",
       "1  Dans l'espoir d'une guérison miraculeuse, John...   7.4  \n",
       "2  Jake Rosser, officier de police dans l'équipe ...   6.3  \n",
       "3  Depuis déjà plusieurs générations, la musique ...   8.2  \n",
       "4  En France, en 1956, un prêtre est assassiné da...   7.0  "
      ]
     },
     "execution_count": 5,
     "metadata": {},
     "output_type": "execute_result"
    }
   ],
   "source": [
    "df.head(5)"
   ]
  },
  {
   "cell_type": "code",
   "execution_count": 6,
   "metadata": {},
   "outputs": [
    {
     "data": {
      "text/html": [
       "<div>\n",
       "<style scoped>\n",
       "    .dataframe tbody tr th:only-of-type {\n",
       "        vertical-align: middle;\n",
       "    }\n",
       "\n",
       "    .dataframe tbody tr th {\n",
       "        vertical-align: top;\n",
       "    }\n",
       "\n",
       "    .dataframe thead th {\n",
       "        text-align: right;\n",
       "    }\n",
       "</style>\n",
       "<table border=\"1\" class=\"dataframe\">\n",
       "  <thead>\n",
       "    <tr style=\"text-align: right;\">\n",
       "      <th></th>\n",
       "      <th>ID</th>\n",
       "      <th>Titre</th>\n",
       "      <th>Genre</th>\n",
       "      <th>Date de sortie</th>\n",
       "      <th>Synopsis</th>\n",
       "      <th>Note</th>\n",
       "    </tr>\n",
       "  </thead>\n",
       "  <tbody>\n",
       "    <tr>\n",
       "      <th>9995</th>\n",
       "      <td>88005</td>\n",
       "      <td>Jusqu'à ce que la fin du monde nous sépare</td>\n",
       "      <td>Comédie, Drame, Romance, Aventure</td>\n",
       "      <td>2012-06-22</td>\n",
       "      <td>Que feriez-vous si la fin du monde arrivait da...</td>\n",
       "      <td>6.6</td>\n",
       "    </tr>\n",
       "    <tr>\n",
       "      <th>9996</th>\n",
       "      <td>586048</td>\n",
       "      <td>82년생 김지영</td>\n",
       "      <td>Drame</td>\n",
       "      <td>2019-10-23</td>\n",
       "      <td>Kim Ji‑young est une épouse aimante et une mèr...</td>\n",
       "      <td>7.4</td>\n",
       "    </tr>\n",
       "    <tr>\n",
       "      <th>9997</th>\n",
       "      <td>554590</td>\n",
       "      <td>Tod@s Caen</td>\n",
       "      <td>Comédie</td>\n",
       "      <td>2019-08-30</td>\n",
       "      <td>Adam et Mia sont deux stratèges qui veulent en...</td>\n",
       "      <td>7.8</td>\n",
       "    </tr>\n",
       "    <tr>\n",
       "      <th>9998</th>\n",
       "      <td>252164</td>\n",
       "      <td>Pressure</td>\n",
       "      <td>Drame, Thriller</td>\n",
       "      <td>2015-06-04</td>\n",
       "      <td>Quatre plongeurs sont envoyés au fond de l'océ...</td>\n",
       "      <td>5.7</td>\n",
       "    </tr>\n",
       "    <tr>\n",
       "      <th>9999</th>\n",
       "      <td>553608</td>\n",
       "      <td>DJ Cendrillon</td>\n",
       "      <td>Romance, Comédie</td>\n",
       "      <td>2019-02-28</td>\n",
       "      <td>Cintia est une princesse moderne, elle est con...</td>\n",
       "      <td>6.5</td>\n",
       "    </tr>\n",
       "  </tbody>\n",
       "</table>\n",
       "</div>"
      ],
      "text/plain": [
       "          ID                                       Titre  \\\n",
       "9995   88005  Jusqu'à ce que la fin du monde nous sépare   \n",
       "9996  586048                                    82년생 김지영   \n",
       "9997  554590                                  Tod@s Caen   \n",
       "9998  252164                                    Pressure   \n",
       "9999  553608                               DJ Cendrillon   \n",
       "\n",
       "                                  Genre Date de sortie  \\\n",
       "9995  Comédie, Drame, Romance, Aventure     2012-06-22   \n",
       "9996                              Drame     2019-10-23   \n",
       "9997                            Comédie     2019-08-30   \n",
       "9998                    Drame, Thriller     2015-06-04   \n",
       "9999                   Romance, Comédie     2019-02-28   \n",
       "\n",
       "                                               Synopsis  Note  \n",
       "9995  Que feriez-vous si la fin du monde arrivait da...   6.6  \n",
       "9996  Kim Ji‑young est une épouse aimante et une mèr...   7.4  \n",
       "9997  Adam et Mia sont deux stratèges qui veulent en...   7.8  \n",
       "9998  Quatre plongeurs sont envoyés au fond de l'océ...   5.7  \n",
       "9999  Cintia est une princesse moderne, elle est con...   6.5  "
      ]
     },
     "execution_count": 6,
     "metadata": {},
     "output_type": "execute_result"
    }
   ],
   "source": [
    "df.tail(5)"
   ]
  },
  {
   "cell_type": "code",
   "execution_count": 7,
   "metadata": {},
   "outputs": [
    {
     "data": {
      "text/html": [
       "<div>\n",
       "<style scoped>\n",
       "    .dataframe tbody tr th:only-of-type {\n",
       "        vertical-align: middle;\n",
       "    }\n",
       "\n",
       "    .dataframe tbody tr th {\n",
       "        vertical-align: top;\n",
       "    }\n",
       "\n",
       "    .dataframe thead th {\n",
       "        text-align: right;\n",
       "    }\n",
       "</style>\n",
       "<table border=\"1\" class=\"dataframe\">\n",
       "  <thead>\n",
       "    <tr style=\"text-align: right;\">\n",
       "      <th></th>\n",
       "      <th>ID</th>\n",
       "      <th>Titre</th>\n",
       "      <th>Genre</th>\n",
       "      <th>Date de sortie</th>\n",
       "      <th>Synopsis</th>\n",
       "      <th>Note</th>\n",
       "    </tr>\n",
       "  </thead>\n",
       "  <tbody>\n",
       "    <tr>\n",
       "      <th>2406</th>\n",
       "      <td>52451</td>\n",
       "      <td>Les Trois Mousquetaires</td>\n",
       "      <td>Aventure, Action, Thriller</td>\n",
       "      <td>2011-08-31</td>\n",
       "      <td>L'histoire raconte les aventures de D'Artagnan...</td>\n",
       "      <td>5.8</td>\n",
       "    </tr>\n",
       "    <tr>\n",
       "      <th>6042</th>\n",
       "      <td>11071</td>\n",
       "      <td>Des monstres attaquent la ville</td>\n",
       "      <td>Science-Fiction, Horreur</td>\n",
       "      <td>1954-06-16</td>\n",
       "      <td>Après une explosion atomique, des fourmis géan...</td>\n",
       "      <td>6.8</td>\n",
       "    </tr>\n",
       "    <tr>\n",
       "      <th>5367</th>\n",
       "      <td>72358</td>\n",
       "      <td>Mille mots</td>\n",
       "      <td>Drame, Comédie</td>\n",
       "      <td>2012-03-07</td>\n",
       "      <td>Et si vous n’aviez plus que mille mots à prono...</td>\n",
       "      <td>6.1</td>\n",
       "    </tr>\n",
       "    <tr>\n",
       "      <th>4143</th>\n",
       "      <td>631132</td>\n",
       "      <td>Goblin Slayer : Goblin's Crown</td>\n",
       "      <td>Animation, Aventure, Action, Fantastique</td>\n",
       "      <td>2020-02-01</td>\n",
       "      <td>Goblin Slayer et son groupe se dirigent vers l...</td>\n",
       "      <td>7.4</td>\n",
       "    </tr>\n",
       "    <tr>\n",
       "      <th>7318</th>\n",
       "      <td>279229</td>\n",
       "      <td>Bleu saphir</td>\n",
       "      <td>Fantastique, Romance, Drame</td>\n",
       "      <td>2014-08-14</td>\n",
       "      <td>Elle a hérité d'un don qu'elle a appris à maît...</td>\n",
       "      <td>7.2</td>\n",
       "    </tr>\n",
       "    <tr>\n",
       "      <th>6035</th>\n",
       "      <td>509874</td>\n",
       "      <td>Arnaqueurs Associés</td>\n",
       "      <td>Crime, Comédie, Drame</td>\n",
       "      <td>2019-07-12</td>\n",
       "      <td>Un cambrioleur, qui ne vole que des oeuvres d'...</td>\n",
       "      <td>5.9</td>\n",
       "    </tr>\n",
       "    <tr>\n",
       "      <th>621</th>\n",
       "      <td>284054</td>\n",
       "      <td>Black Panther</td>\n",
       "      <td>Action, Aventure, Science-Fiction</td>\n",
       "      <td>2018-02-13</td>\n",
       "      <td>Après les événements qui se sont déroulés dans...</td>\n",
       "      <td>7.4</td>\n",
       "    </tr>\n",
       "    <tr>\n",
       "      <th>6633</th>\n",
       "      <td>15516</td>\n",
       "      <td>La Dernière Maison sur la gauche</td>\n",
       "      <td>Horreur, Thriller</td>\n",
       "      <td>1972-08-30</td>\n",
       "      <td>Pour fêter son dix-septième anniversaire, Mari...</td>\n",
       "      <td>5.9</td>\n",
       "    </tr>\n",
       "    <tr>\n",
       "      <th>6900</th>\n",
       "      <td>849</td>\n",
       "      <td>Krull</td>\n",
       "      <td>Action, Aventure, Fantastique, Science-Fiction</td>\n",
       "      <td>1983-07-29</td>\n",
       "      <td>Les épousailles de Colwyn, fils du roi Turold ...</td>\n",
       "      <td>6.0</td>\n",
       "    </tr>\n",
       "    <tr>\n",
       "      <th>4656</th>\n",
       "      <td>9272</td>\n",
       "      <td>Le Bon Fils</td>\n",
       "      <td>Thriller, Drame, Horreur</td>\n",
       "      <td>1993-09-24</td>\n",
       "      <td>Après le décès de sa mère, Mark Evans, 12 ans,...</td>\n",
       "      <td>6.7</td>\n",
       "    </tr>\n",
       "  </tbody>\n",
       "</table>\n",
       "</div>"
      ],
      "text/plain": [
       "          ID                             Titre  \\\n",
       "2406   52451           Les Trois Mousquetaires   \n",
       "6042   11071   Des monstres attaquent la ville   \n",
       "5367   72358                        Mille mots   \n",
       "4143  631132    Goblin Slayer : Goblin's Crown   \n",
       "7318  279229                       Bleu saphir   \n",
       "6035  509874               Arnaqueurs Associés   \n",
       "621   284054                     Black Panther   \n",
       "6633   15516  La Dernière Maison sur la gauche   \n",
       "6900     849                             Krull   \n",
       "4656    9272                       Le Bon Fils   \n",
       "\n",
       "                                               Genre Date de sortie  \\\n",
       "2406                      Aventure, Action, Thriller     2011-08-31   \n",
       "6042                        Science-Fiction, Horreur     1954-06-16   \n",
       "5367                                  Drame, Comédie     2012-03-07   \n",
       "4143        Animation, Aventure, Action, Fantastique     2020-02-01   \n",
       "7318                     Fantastique, Romance, Drame     2014-08-14   \n",
       "6035                           Crime, Comédie, Drame     2019-07-12   \n",
       "621                Action, Aventure, Science-Fiction     2018-02-13   \n",
       "6633                               Horreur, Thriller     1972-08-30   \n",
       "6900  Action, Aventure, Fantastique, Science-Fiction     1983-07-29   \n",
       "4656                        Thriller, Drame, Horreur     1993-09-24   \n",
       "\n",
       "                                               Synopsis  Note  \n",
       "2406  L'histoire raconte les aventures de D'Artagnan...   5.8  \n",
       "6042  Après une explosion atomique, des fourmis géan...   6.8  \n",
       "5367  Et si vous n’aviez plus que mille mots à prono...   6.1  \n",
       "4143  Goblin Slayer et son groupe se dirigent vers l...   7.4  \n",
       "7318  Elle a hérité d'un don qu'elle a appris à maît...   7.2  \n",
       "6035  Un cambrioleur, qui ne vole que des oeuvres d'...   5.9  \n",
       "621   Après les événements qui se sont déroulés dans...   7.4  \n",
       "6633  Pour fêter son dix-septième anniversaire, Mari...   5.9  \n",
       "6900  Les épousailles de Colwyn, fils du roi Turold ...   6.0  \n",
       "4656  Après le décès de sa mère, Mark Evans, 12 ans,...   6.7  "
      ]
     },
     "execution_count": 7,
     "metadata": {},
     "output_type": "execute_result"
    }
   ],
   "source": [
    "df.sample(10)"
   ]
  },
  {
   "cell_type": "markdown",
   "metadata": {},
   "source": [
    "### 2.2 Structure"
   ]
  },
  {
   "cell_type": "code",
   "execution_count": 8,
   "metadata": {},
   "outputs": [
    {
     "data": {
      "text/plain": [
       "(10000, 6)"
      ]
     },
     "execution_count": 8,
     "metadata": {},
     "output_type": "execute_result"
    }
   ],
   "source": [
    "df.shape"
   ]
  },
  {
   "cell_type": "code",
   "execution_count": 9,
   "metadata": {},
   "outputs": [
    {
     "name": "stdout",
     "output_type": "stream",
     "text": [
      "<class 'pandas.core.frame.DataFrame'>\n",
      "RangeIndex: 10000 entries, 0 to 9999\n",
      "Data columns (total 6 columns):\n",
      " #   Column          Non-Null Count  Dtype  \n",
      "---  ------          --------------  -----  \n",
      " 0   ID              10000 non-null  int64  \n",
      " 1   Titre           10000 non-null  object \n",
      " 2   Genre           9952 non-null   object \n",
      " 3   Date de sortie  9986 non-null   object \n",
      " 4   Synopsis        9053 non-null   object \n",
      " 5   Note            10000 non-null  float64\n",
      "dtypes: float64(1), int64(1), object(4)\n",
      "memory usage: 468.9+ KB\n"
     ]
    }
   ],
   "source": [
    "df.info()"
   ]
  },
  {
   "cell_type": "code",
   "execution_count": 10,
   "metadata": {},
   "outputs": [
    {
     "data": {
      "text/plain": [
       "ID                9903\n",
       "Titre             9674\n",
       "Genre             2247\n",
       "Date de sortie    5925\n",
       "Synopsis          8963\n",
       "Note                72\n",
       "dtype: int64"
      ]
     },
     "execution_count": 10,
     "metadata": {},
     "output_type": "execute_result"
    }
   ],
   "source": [
    "df.nunique()"
   ]
  },
  {
   "cell_type": "markdown",
   "metadata": {},
   "source": [
    "### 2.3 NaN & duplicated"
   ]
  },
  {
   "cell_type": "code",
   "execution_count": 11,
   "metadata": {},
   "outputs": [
    {
     "data": {
      "text/plain": [
       "ID                  0\n",
       "Titre               0\n",
       "Genre              48\n",
       "Date de sortie     14\n",
       "Synopsis          947\n",
       "Note                0\n",
       "dtype: int64"
      ]
     },
     "execution_count": 11,
     "metadata": {},
     "output_type": "execute_result"
    }
   ],
   "source": [
    "#NaN\n",
    "\n",
    "df.isna().sum()"
   ]
  },
  {
   "cell_type": "code",
   "execution_count": 12,
   "metadata": {},
   "outputs": [
    {
     "data": {
      "text/plain": [
       "ID                0.0000\n",
       "Titre             0.0000\n",
       "Note              0.0000\n",
       "Date de sortie    0.0014\n",
       "Genre             0.0048\n",
       "Synopsis          0.0947\n",
       "dtype: float64"
      ]
     },
     "execution_count": 12,
     "metadata": {},
     "output_type": "execute_result"
    }
   ],
   "source": [
    "df.isna().mean().sort_values()"
   ]
  },
  {
   "cell_type": "code",
   "execution_count": 13,
   "metadata": {},
   "outputs": [
    {
     "data": {
      "text/plain": [
       "<Axes: >"
      ]
     },
     "execution_count": 13,
     "metadata": {},
     "output_type": "execute_result"
    },
    {
     "data": {
      "image/png": "[encoded data removed]",
      "text/plain": [
       "<Figure size 2000x600 with 2 Axes>"
      ]
     },
     "metadata": {},
     "output_type": "display_data"
    }
   ],
   "source": [
    "plt.figure(figsize=(20,6))\n",
    "sns.heatmap(df.isna())"
   ]
  },
  {
   "cell_type": "code",
   "execution_count": 14,
   "metadata": {},
   "outputs": [
    {
     "data": {
      "text/plain": [
       "97"
      ]
     },
     "execution_count": 14,
     "metadata": {},
     "output_type": "execute_result"
    }
   ],
   "source": [
    "# Duplicated rows\n",
    "\n",
    "df.duplicated().sum()"
   ]
  },
  {
   "cell_type": "code",
   "execution_count": 15,
   "metadata": {},
   "outputs": [
    {
     "name": "stdout",
     "output_type": "stream",
     "text": [
      "column : ID -> duplicated : 97\n",
      "column : Titre -> duplicated : 326\n",
      "column : Genre -> duplicated : 7752\n",
      "column : Date de sortie -> duplicated : 4074\n",
      "column : Synopsis -> duplicated : 1036\n",
      "column : Note -> duplicated : 9928\n"
     ]
    }
   ],
   "source": [
    "# doublons par colonne\n",
    "\n",
    "for col in df.columns:\n",
    "    n = df.duplicated(subset=col).sum()\n",
    "    print(f\"column : {col} -> duplicated : {n}\")"
   ]
  },
  {
   "cell_type": "code",
   "execution_count": 16,
   "metadata": {},
   "outputs": [
    {
     "data": {
      "text/html": [
       "<div>\n",
       "<style scoped>\n",
       "    .dataframe tbody tr th:only-of-type {\n",
       "        vertical-align: middle;\n",
       "    }\n",
       "\n",
       "    .dataframe tbody tr th {\n",
       "        vertical-align: top;\n",
       "    }\n",
       "\n",
       "    .dataframe thead th {\n",
       "        text-align: right;\n",
       "    }\n",
       "</style>\n",
       "<table border=\"1\" class=\"dataframe\">\n",
       "  <thead>\n",
       "    <tr style=\"text-align: right;\">\n",
       "      <th></th>\n",
       "      <th>ID</th>\n",
       "      <th>Titre</th>\n",
       "      <th>Genre</th>\n",
       "      <th>Date de sortie</th>\n",
       "      <th>Synopsis</th>\n",
       "      <th>Note</th>\n",
       "    </tr>\n",
       "  </thead>\n",
       "  <tbody>\n",
       "    <tr>\n",
       "      <th>1246</th>\n",
       "      <td>9378</td>\n",
       "      <td>13 fantômes</td>\n",
       "      <td>Horreur, Thriller</td>\n",
       "      <td>2001-10-26</td>\n",
       "      <td>Arthur Kriticos, un enseignant veuf, hérite du...</td>\n",
       "      <td>6.2</td>\n",
       "    </tr>\n",
       "    <tr>\n",
       "      <th>1131</th>\n",
       "      <td>9378</td>\n",
       "      <td>13 fantômes</td>\n",
       "      <td>Horreur, Thriller</td>\n",
       "      <td>2001-10-26</td>\n",
       "      <td>Arthur Kriticos, un enseignant veuf, hérite du...</td>\n",
       "      <td>6.2</td>\n",
       "    </tr>\n",
       "    <tr>\n",
       "      <th>5498</th>\n",
       "      <td>118612</td>\n",
       "      <td>After</td>\n",
       "      <td>Mystère, Thriller</td>\n",
       "      <td>2012-08-27</td>\n",
       "      <td>NaN</td>\n",
       "      <td>5.5</td>\n",
       "    </tr>\n",
       "    <tr>\n",
       "      <th>6272</th>\n",
       "      <td>163733</td>\n",
       "      <td>After</td>\n",
       "      <td>Romance</td>\n",
       "      <td>2013-01-30</td>\n",
       "      <td>Paris, la nuit, une femme rencontre un homme. ...</td>\n",
       "      <td>5.9</td>\n",
       "    </tr>\n",
       "    <tr>\n",
       "      <th>3620</th>\n",
       "      <td>390051</td>\n",
       "      <td>Aftermath</td>\n",
       "      <td>Drame, Thriller</td>\n",
       "      <td>2017-02-28</td>\n",
       "      <td>Après avoir perdu sa femme et son enfant dans ...</td>\n",
       "      <td>5.7</td>\n",
       "    </tr>\n",
       "    <tr>\n",
       "      <th>...</th>\n",
       "      <td>...</td>\n",
       "      <td>...</td>\n",
       "      <td>...</td>\n",
       "      <td>...</td>\n",
       "      <td>...</td>\n",
       "      <td>...</td>\n",
       "    </tr>\n",
       "    <tr>\n",
       "      <th>1202</th>\n",
       "      <td>987507</td>\n",
       "      <td>バッドシティ</td>\n",
       "      <td>Action, Crime</td>\n",
       "      <td>2022-07-05</td>\n",
       "      <td>NaN</td>\n",
       "      <td>6.9</td>\n",
       "    </tr>\n",
       "    <tr>\n",
       "      <th>1224</th>\n",
       "      <td>473924</td>\n",
       "      <td>동창회의 목적: 더 비기닝</td>\n",
       "      <td>Comédie, Romance</td>\n",
       "      <td>2017-02-02</td>\n",
       "      <td>NaN</td>\n",
       "      <td>8.2</td>\n",
       "    </tr>\n",
       "    <tr>\n",
       "      <th>1163</th>\n",
       "      <td>473924</td>\n",
       "      <td>동창회의 목적: 더 비기닝</td>\n",
       "      <td>Comédie, Romance</td>\n",
       "      <td>2017-02-02</td>\n",
       "      <td>NaN</td>\n",
       "      <td>8.2</td>\n",
       "    </tr>\n",
       "    <tr>\n",
       "      <th>1281</th>\n",
       "      <td>995612</td>\n",
       "      <td>여자친구의 맛 2</td>\n",
       "      <td>Romance</td>\n",
       "      <td>2020-11-13</td>\n",
       "      <td>NaN</td>\n",
       "      <td>3.0</td>\n",
       "    </tr>\n",
       "    <tr>\n",
       "      <th>1215</th>\n",
       "      <td>995612</td>\n",
       "      <td>여자친구의 맛 2</td>\n",
       "      <td>Romance</td>\n",
       "      <td>2020-11-13</td>\n",
       "      <td>NaN</td>\n",
       "      <td>3.0</td>\n",
       "    </tr>\n",
       "  </tbody>\n",
       "</table>\n",
       "<p>622 rows × 6 columns</p>\n",
       "</div>"
      ],
      "text/plain": [
       "          ID           Titre              Genre Date de sortie  \\\n",
       "1246    9378     13 fantômes  Horreur, Thriller     2001-10-26   \n",
       "1131    9378     13 fantômes  Horreur, Thriller     2001-10-26   \n",
       "5498  118612           After  Mystère, Thriller     2012-08-27   \n",
       "6272  163733           After            Romance     2013-01-30   \n",
       "3620  390051       Aftermath    Drame, Thriller     2017-02-28   \n",
       "...      ...             ...                ...            ...   \n",
       "1202  987507          バッドシティ      Action, Crime     2022-07-05   \n",
       "1224  473924  동창회의 목적: 더 비기닝   Comédie, Romance     2017-02-02   \n",
       "1163  473924  동창회의 목적: 더 비기닝   Comédie, Romance     2017-02-02   \n",
       "1281  995612       여자친구의 맛 2            Romance     2020-11-13   \n",
       "1215  995612       여자친구의 맛 2            Romance     2020-11-13   \n",
       "\n",
       "                                               Synopsis  Note  \n",
       "1246  Arthur Kriticos, un enseignant veuf, hérite du...   6.2  \n",
       "1131  Arthur Kriticos, un enseignant veuf, hérite du...   6.2  \n",
       "5498                                                NaN   5.5  \n",
       "6272  Paris, la nuit, une femme rencontre un homme. ...   5.9  \n",
       "3620  Après avoir perdu sa femme et son enfant dans ...   5.7  \n",
       "...                                                 ...   ...  \n",
       "1202                                                NaN   6.9  \n",
       "1224                                                NaN   8.2  \n",
       "1163                                                NaN   8.2  \n",
       "1281                                                NaN   3.0  \n",
       "1215                                                NaN   3.0  \n",
       "\n",
       "[622 rows x 6 columns]"
      ]
     },
     "execution_count": 16,
     "metadata": {},
     "output_type": "execute_result"
    }
   ],
   "source": [
    "# isolement des lignes avec doublons dans \"Titre\"\n",
    "\n",
    "idx = df.duplicated(subset=[\"Titre\"], keep=False)\n",
    "dbl_df = df[idx]\n",
    "\n",
    "dbl_df.sort_values(\"Titre\")"
   ]
  },
  {
   "cell_type": "markdown",
   "metadata": {},
   "source": [
    "### 2.4 Data inspection"
   ]
  },
  {
   "cell_type": "code",
   "execution_count": 17,
   "metadata": {},
   "outputs": [
    {
     "data": {
      "text/html": [
       "<div>\n",
       "<style scoped>\n",
       "    .dataframe tbody tr th:only-of-type {\n",
       "        vertical-align: middle;\n",
       "    }\n",
       "\n",
       "    .dataframe tbody tr th {\n",
       "        vertical-align: top;\n",
       "    }\n",
       "\n",
       "    .dataframe thead th {\n",
       "        text-align: right;\n",
       "    }\n",
       "</style>\n",
       "<table border=\"1\" class=\"dataframe\">\n",
       "  <thead>\n",
       "    <tr style=\"text-align: right;\">\n",
       "      <th></th>\n",
       "      <th>ID</th>\n",
       "      <th>Titre</th>\n",
       "      <th>Genre</th>\n",
       "      <th>Date de sortie</th>\n",
       "      <th>Synopsis</th>\n",
       "      <th>Note</th>\n",
       "    </tr>\n",
       "  </thead>\n",
       "  <tbody>\n",
       "    <tr>\n",
       "      <th>count</th>\n",
       "      <td>1.000000e+04</td>\n",
       "      <td>10000</td>\n",
       "      <td>9952</td>\n",
       "      <td>9986</td>\n",
       "      <td>9053</td>\n",
       "      <td>10000.000000</td>\n",
       "    </tr>\n",
       "    <tr>\n",
       "      <th>unique</th>\n",
       "      <td>NaN</td>\n",
       "      <td>9674</td>\n",
       "      <td>2247</td>\n",
       "      <td>5925</td>\n",
       "      <td>8963</td>\n",
       "      <td>NaN</td>\n",
       "    </tr>\n",
       "    <tr>\n",
       "      <th>top</th>\n",
       "      <td>NaN</td>\n",
       "      <td>La Planète des singes</td>\n",
       "      <td>Drame</td>\n",
       "      <td>2023-11-01</td>\n",
       "      <td>Dans un lieu de villégiature top secret réserv...</td>\n",
       "      <td>NaN</td>\n",
       "    </tr>\n",
       "    <tr>\n",
       "      <th>freq</th>\n",
       "      <td>NaN</td>\n",
       "      <td>4</td>\n",
       "      <td>555</td>\n",
       "      <td>53</td>\n",
       "      <td>2</td>\n",
       "      <td>NaN</td>\n",
       "    </tr>\n",
       "    <tr>\n",
       "      <th>mean</th>\n",
       "      <td>3.105742e+05</td>\n",
       "      <td>NaN</td>\n",
       "      <td>NaN</td>\n",
       "      <td>NaN</td>\n",
       "      <td>NaN</td>\n",
       "      <td>6.360150</td>\n",
       "    </tr>\n",
       "    <tr>\n",
       "      <th>std</th>\n",
       "      <td>3.568495e+05</td>\n",
       "      <td>NaN</td>\n",
       "      <td>NaN</td>\n",
       "      <td>NaN</td>\n",
       "      <td>NaN</td>\n",
       "      <td>1.434617</td>\n",
       "    </tr>\n",
       "    <tr>\n",
       "      <th>min</th>\n",
       "      <td>5.000000e+00</td>\n",
       "      <td>NaN</td>\n",
       "      <td>NaN</td>\n",
       "      <td>NaN</td>\n",
       "      <td>NaN</td>\n",
       "      <td>0.000000</td>\n",
       "    </tr>\n",
       "    <tr>\n",
       "      <th>25%</th>\n",
       "      <td>1.132975e+04</td>\n",
       "      <td>NaN</td>\n",
       "      <td>NaN</td>\n",
       "      <td>NaN</td>\n",
       "      <td>NaN</td>\n",
       "      <td>6.000000</td>\n",
       "    </tr>\n",
       "    <tr>\n",
       "      <th>50%</th>\n",
       "      <td>1.137705e+05</td>\n",
       "      <td>NaN</td>\n",
       "      <td>NaN</td>\n",
       "      <td>NaN</td>\n",
       "      <td>NaN</td>\n",
       "      <td>6.600000</td>\n",
       "    </tr>\n",
       "    <tr>\n",
       "      <th>75%</th>\n",
       "      <td>5.542925e+05</td>\n",
       "      <td>NaN</td>\n",
       "      <td>NaN</td>\n",
       "      <td>NaN</td>\n",
       "      <td>NaN</td>\n",
       "      <td>7.200000</td>\n",
       "    </tr>\n",
       "    <tr>\n",
       "      <th>max</th>\n",
       "      <td>1.195115e+06</td>\n",
       "      <td>NaN</td>\n",
       "      <td>NaN</td>\n",
       "      <td>NaN</td>\n",
       "      <td>NaN</td>\n",
       "      <td>10.000000</td>\n",
       "    </tr>\n",
       "  </tbody>\n",
       "</table>\n",
       "</div>"
      ],
      "text/plain": [
       "                  ID                  Titre  Genre Date de sortie  \\\n",
       "count   1.000000e+04                  10000   9952           9986   \n",
       "unique           NaN                   9674   2247           5925   \n",
       "top              NaN  La Planète des singes  Drame     2023-11-01   \n",
       "freq             NaN                      4    555             53   \n",
       "mean    3.105742e+05                    NaN    NaN            NaN   \n",
       "std     3.568495e+05                    NaN    NaN            NaN   \n",
       "min     5.000000e+00                    NaN    NaN            NaN   \n",
       "25%     1.132975e+04                    NaN    NaN            NaN   \n",
       "50%     1.137705e+05                    NaN    NaN            NaN   \n",
       "75%     5.542925e+05                    NaN    NaN            NaN   \n",
       "max     1.195115e+06                    NaN    NaN            NaN   \n",
       "\n",
       "                                                 Synopsis          Note  \n",
       "count                                                9053  10000.000000  \n",
       "unique                                               8963           NaN  \n",
       "top     Dans un lieu de villégiature top secret réserv...           NaN  \n",
       "freq                                                    2           NaN  \n",
       "mean                                                  NaN      6.360150  \n",
       "std                                                   NaN      1.434617  \n",
       "min                                                   NaN      0.000000  \n",
       "25%                                                   NaN      6.000000  \n",
       "50%                                                   NaN      6.600000  \n",
       "75%                                                   NaN      7.200000  \n",
       "max                                                   NaN     10.000000  "
      ]
     },
     "execution_count": 17,
     "metadata": {},
     "output_type": "execute_result"
    }
   ],
   "source": [
    "df.describe(include='all')"
   ]
  },
  {
   "cell_type": "markdown",
   "metadata": {},
   "source": [
    "## 3. Cleaning"
   ]
  },
  {
   "cell_type": "markdown",
   "metadata": {},
   "source": [
    "### 3.1 NaN"
   ]
  },
  {
   "cell_type": "code",
   "execution_count": 18,
   "metadata": {},
   "outputs": [],
   "source": [
    "df.dropna(inplace=True)"
   ]
  },
  {
   "cell_type": "code",
   "execution_count": 19,
   "metadata": {},
   "outputs": [],
   "source": [
    "df = df.drop_duplicates(subset='Synopsis')\n"
   ]
  },
  {
   "cell_type": "code",
   "execution_count": 20,
   "metadata": {},
   "outputs": [],
   "source": [
    "#remplacement des valeurs manquantes en NAT dans la colonne date\n",
    "\n",
    "df['Date de sortie'] = pd.to_datetime(df['Date de sortie'], errors='coerce')"
   ]
  },
  {
   "cell_type": "markdown",
   "metadata": {},
   "source": [
    "### 3.2 Drop duplicated"
   ]
  },
  {
   "cell_type": "code",
   "execution_count": 21,
   "metadata": {},
   "outputs": [],
   "source": [
    "df.drop_duplicates(inplace=True)"
   ]
  },
  {
   "cell_type": "markdown",
   "metadata": {},
   "source": [
    "## 4. Exploratory Data Analysis"
   ]
  },
  {
   "cell_type": "markdown",
   "metadata": {},
   "source": [
    "### 4.1 Genre"
   ]
  },
  {
   "cell_type": "code",
   "execution_count": 22,
   "metadata": {},
   "outputs": [],
   "source": [
    "#certains genres dans la colonne \"Genre\" sont stockés sous forme de chaînes de caractères plutôt que de listes\n",
    "\n",
    "df['Genre'] = df['Genre'].apply(lambda x: x.split(\", \") if isinstance(x, str) else x)"
   ]
  },
  {
   "cell_type": "code",
   "execution_count": 23,
   "metadata": {},
   "outputs": [
    {
     "data": {
      "text/html": [
       "<div>\n",
       "<style scoped>\n",
       "    .dataframe tbody tr th:only-of-type {\n",
       "        vertical-align: middle;\n",
       "    }\n",
       "\n",
       "    .dataframe tbody tr th {\n",
       "        vertical-align: top;\n",
       "    }\n",
       "\n",
       "    .dataframe thead th {\n",
       "        text-align: right;\n",
       "    }\n",
       "</style>\n",
       "<table border=\"1\" class=\"dataframe\">\n",
       "  <thead>\n",
       "    <tr style=\"text-align: right;\">\n",
       "      <th></th>\n",
       "      <th>Genre</th>\n",
       "      <th>Nombre de films</th>\n",
       "    </tr>\n",
       "  </thead>\n",
       "  <tbody>\n",
       "    <tr>\n",
       "      <th>0</th>\n",
       "      <td>Drame</td>\n",
       "      <td>3449</td>\n",
       "    </tr>\n",
       "    <tr>\n",
       "      <th>1</th>\n",
       "      <td>Comédie</td>\n",
       "      <td>2779</td>\n",
       "    </tr>\n",
       "    <tr>\n",
       "      <th>2</th>\n",
       "      <td>Action</td>\n",
       "      <td>2596</td>\n",
       "    </tr>\n",
       "    <tr>\n",
       "      <th>3</th>\n",
       "      <td>Thriller</td>\n",
       "      <td>2445</td>\n",
       "    </tr>\n",
       "    <tr>\n",
       "      <th>4</th>\n",
       "      <td>Aventure</td>\n",
       "      <td>1773</td>\n",
       "    </tr>\n",
       "    <tr>\n",
       "      <th>5</th>\n",
       "      <td>Horreur</td>\n",
       "      <td>1378</td>\n",
       "    </tr>\n",
       "    <tr>\n",
       "      <th>6</th>\n",
       "      <td>Romance</td>\n",
       "      <td>1346</td>\n",
       "    </tr>\n",
       "    <tr>\n",
       "      <th>7</th>\n",
       "      <td>Crime</td>\n",
       "      <td>1276</td>\n",
       "    </tr>\n",
       "    <tr>\n",
       "      <th>8</th>\n",
       "      <td>Fantastique</td>\n",
       "      <td>1245</td>\n",
       "    </tr>\n",
       "    <tr>\n",
       "      <th>9</th>\n",
       "      <td>Familial</td>\n",
       "      <td>1229</td>\n",
       "    </tr>\n",
       "    <tr>\n",
       "      <th>10</th>\n",
       "      <td>Animation</td>\n",
       "      <td>1226</td>\n",
       "    </tr>\n",
       "    <tr>\n",
       "      <th>11</th>\n",
       "      <td>Science-Fiction</td>\n",
       "      <td>1156</td>\n",
       "    </tr>\n",
       "    <tr>\n",
       "      <th>12</th>\n",
       "      <td>Mystère</td>\n",
       "      <td>824</td>\n",
       "    </tr>\n",
       "    <tr>\n",
       "      <th>13</th>\n",
       "      <td>Histoire</td>\n",
       "      <td>394</td>\n",
       "    </tr>\n",
       "    <tr>\n",
       "      <th>14</th>\n",
       "      <td>Guerre</td>\n",
       "      <td>294</td>\n",
       "    </tr>\n",
       "    <tr>\n",
       "      <th>15</th>\n",
       "      <td>Musique</td>\n",
       "      <td>224</td>\n",
       "    </tr>\n",
       "    <tr>\n",
       "      <th>16</th>\n",
       "      <td>Téléfilm</td>\n",
       "      <td>170</td>\n",
       "    </tr>\n",
       "    <tr>\n",
       "      <th>17</th>\n",
       "      <td>Western</td>\n",
       "      <td>153</td>\n",
       "    </tr>\n",
       "    <tr>\n",
       "      <th>18</th>\n",
       "      <td>Documentaire</td>\n",
       "      <td>94</td>\n",
       "    </tr>\n",
       "  </tbody>\n",
       "</table>\n",
       "</div>"
      ],
      "text/plain": [
       "              Genre  Nombre de films\n",
       "0             Drame             3449\n",
       "1           Comédie             2779\n",
       "2            Action             2596\n",
       "3          Thriller             2445\n",
       "4          Aventure             1773\n",
       "5           Horreur             1378\n",
       "6           Romance             1346\n",
       "7             Crime             1276\n",
       "8       Fantastique             1245\n",
       "9          Familial             1229\n",
       "10        Animation             1226\n",
       "11  Science-Fiction             1156\n",
       "12          Mystère              824\n",
       "13         Histoire              394\n",
       "14           Guerre              294\n",
       "15          Musique              224\n",
       "16         Téléfilm              170\n",
       "17          Western              153\n",
       "18     Documentaire               94"
      ]
     },
     "execution_count": 23,
     "metadata": {},
     "output_type": "execute_result"
    }
   ],
   "source": [
    "genres_expanded = df['Genre'].explode()\n",
    "\n",
    "genre_counts = genres_expanded.value_counts()\n",
    "\n",
    "df_genre_counts = genre_counts.reset_index()\n",
    "df_genre_counts.columns = ['Genre', 'Nombre de films']\n",
    "\n",
    "df_genre_counts"
   ]
  },
  {
   "cell_type": "code",
   "execution_count": 24,
   "metadata": {},
   "outputs": [
    {
     "data": {
      "image/png": "[encoded data removed]",
      "text/plain": [
       "<Figure size 1000x800 with 1 Axes>"
      ]
     },
     "metadata": {},
     "output_type": "display_data"
    }
   ],
   "source": [
    "plt.figure(figsize=(10,8))\n",
    "\n",
    "sns.barplot(x='Genre', y='Nombre de films', data=df_genre_counts)\n",
    "\n",
    "plt.title('Boxplot des Scores par Genre')\n",
    "plt.xlabel('Genre')\n",
    "plt.ylabel('Score')\n",
    "plt.xticks(rotation=45, ha='right')\n",
    "\n",
    "plt.show()"
   ]
  },
  {
   "cell_type": "markdown",
   "metadata": {},
   "source": [
    "### 4.2 Date de sortie"
   ]
  },
  {
   "cell_type": "code",
   "execution_count": 25,
   "metadata": {},
   "outputs": [
    {
     "data": {
      "image/png": "[encoded data removed]",
      "text/plain": [
       "<Figure size 1000x600 with 1 Axes>"
      ]
     },
     "metadata": {},
     "output_type": "display_data"
    }
   ],
   "source": [
    "df['Date de sortie'] = pd.to_datetime(df['Date de sortie'])\n",
    "\n",
    "plt.figure(figsize=(10,6))\n",
    "df['Date de sortie'].dt.year.hist(bins=30, edgecolor='black')\n",
    "plt.title('Distribution des dates de sortie des films')\n",
    "plt.xlabel('Année de sortie')\n",
    "plt.ylabel('Nombre de films')\n",
    "plt.show()\n"
   ]
  },
  {
   "cell_type": "code",
   "execution_count": 26,
   "metadata": {},
   "outputs": [],
   "source": [
    "# retrait des films qui ne sont pas encore sortis (> 01/11/2023)\n",
    "cutoff_date = pd.Timestamp('2023-11-01')\n",
    "df = df[df[\"Date de sortie\"] < cutoff_date]\n",
    "\n",
    "df.reset_index(drop=True, inplace=True)"
   ]
  },
  {
   "cell_type": "markdown",
   "metadata": {},
   "source": [
    "### 4.3 Note"
   ]
  },
  {
   "cell_type": "code",
   "execution_count": 27,
   "metadata": {},
   "outputs": [
    {
     "data": {
      "text/plain": [
       "6.8    0.047678\n",
       "6.6    0.047453\n",
       "6.5    0.047341\n",
       "7.0    0.046891\n",
       "6.7    0.046666\n",
       "         ...   \n",
       "2.7    0.000112\n",
       "9.0    0.000112\n",
       "8.8    0.000112\n",
       "3.2    0.000112\n",
       "3.3    0.000112\n",
       "Name: Note, Length: 63, dtype: float64"
      ]
     },
     "execution_count": 27,
     "metadata": {},
     "output_type": "execute_result"
    }
   ],
   "source": [
    "df.Note.value_counts(normalize=True)"
   ]
  },
  {
   "cell_type": "code",
   "execution_count": 28,
   "metadata": {},
   "outputs": [
    {
     "data": {
      "image/png": "[encoded data removed]",
      "text/plain": [
       "<Figure size 1000x800 with 1 Axes>"
      ]
     },
     "metadata": {},
     "output_type": "display_data"
    }
   ],
   "source": [
    "plt.figure(figsize=(10,8))\n",
    "\n",
    "df['Note'].hist(bins=35)\n",
    "\n",
    "plt.title(\"Répartition des notes\", size=16)\n",
    "plt.show()"
   ]
  },
  {
   "cell_type": "code",
   "execution_count": 29,
   "metadata": {},
   "outputs": [
    {
     "data": {
      "text/html": [
       "<div>\n",
       "<style scoped>\n",
       "    .dataframe tbody tr th:only-of-type {\n",
       "        vertical-align: middle;\n",
       "    }\n",
       "\n",
       "    .dataframe tbody tr th {\n",
       "        vertical-align: top;\n",
       "    }\n",
       "\n",
       "    .dataframe thead th {\n",
       "        text-align: right;\n",
       "    }\n",
       "</style>\n",
       "<table border=\"1\" class=\"dataframe\">\n",
       "  <thead>\n",
       "    <tr style=\"text-align: right;\">\n",
       "      <th></th>\n",
       "      <th>ID</th>\n",
       "      <th>Titre</th>\n",
       "      <th>Genre</th>\n",
       "      <th>Date de sortie</th>\n",
       "      <th>Synopsis</th>\n",
       "      <th>Note</th>\n",
       "    </tr>\n",
       "  </thead>\n",
       "  <tbody>\n",
       "    <tr>\n",
       "      <th>6006</th>\n",
       "      <td>895549</td>\n",
       "      <td>Insubmersible</td>\n",
       "      <td>[Drame, Histoire]</td>\n",
       "      <td>2023-10-18</td>\n",
       "      <td>L'histoire vraie de la nageuse américaine, Dia...</td>\n",
       "      <td>0.0</td>\n",
       "    </tr>\n",
       "    <tr>\n",
       "      <th>6428</th>\n",
       "      <td>1146302</td>\n",
       "      <td>Sly : Stallone par Stallone</td>\n",
       "      <td>[Documentaire]</td>\n",
       "      <td>2023-09-16</td>\n",
       "      <td>Sa passion pour le cinéma est née du besoin d'...</td>\n",
       "      <td>0.0</td>\n",
       "    </tr>\n",
       "    <tr>\n",
       "      <th>7006</th>\n",
       "      <td>790459</td>\n",
       "      <td>Fingernails</td>\n",
       "      <td>[Romance, Science-Fiction, Drame, Comédie]</td>\n",
       "      <td>2023-10-27</td>\n",
       "      <td>Comment avoir la certitude qu'on a trouvé l'am...</td>\n",
       "      <td>0.0</td>\n",
       "    </tr>\n",
       "    <tr>\n",
       "      <th>7041</th>\n",
       "      <td>1183722</td>\n",
       "      <td>Le Saut du diable 2 : le sentier des loups</td>\n",
       "      <td>[Action, Aventure, Crime, Téléfilm]</td>\n",
       "      <td>2023-10-26</td>\n",
       "      <td>Paul Vilar, ancien des Forces Spéciales, avec ...</td>\n",
       "      <td>0.0</td>\n",
       "    </tr>\n",
       "    <tr>\n",
       "      <th>7446</th>\n",
       "      <td>1002459</td>\n",
       "      <td>El rapto</td>\n",
       "      <td>[Drame]</td>\n",
       "      <td>2023-10-26</td>\n",
       "      <td>Buenos Aires, années 80. Après le retour de la...</td>\n",
       "      <td>0.0</td>\n",
       "    </tr>\n",
       "    <tr>\n",
       "      <th>7477</th>\n",
       "      <td>1185135</td>\n",
       "      <td>Expositions sur grand écran: Klimt et Le Baiser</td>\n",
       "      <td>[Documentaire]</td>\n",
       "      <td>2023-10-30</td>\n",
       "      <td>Le Baiser de Gustav Klimt est l’un des tableau...</td>\n",
       "      <td>0.0</td>\n",
       "    </tr>\n",
       "    <tr>\n",
       "      <th>8384</th>\n",
       "      <td>1195115</td>\n",
       "      <td>Candice Renoir : Des bonbons ou la vie</td>\n",
       "      <td>[Téléfilm, Thriller, Drame, Comédie]</td>\n",
       "      <td>2023-10-30</td>\n",
       "      <td>À l'approche d'Halloween, Candice accompagne A...</td>\n",
       "      <td>0.0</td>\n",
       "    </tr>\n",
       "  </tbody>\n",
       "</table>\n",
       "</div>"
      ],
      "text/plain": [
       "           ID                                            Titre  \\\n",
       "6006   895549                                    Insubmersible   \n",
       "6428  1146302                      Sly : Stallone par Stallone   \n",
       "7006   790459                                      Fingernails   \n",
       "7041  1183722       Le Saut du diable 2 : le sentier des loups   \n",
       "7446  1002459                                         El rapto   \n",
       "7477  1185135  Expositions sur grand écran: Klimt et Le Baiser   \n",
       "8384  1195115           Candice Renoir : Des bonbons ou la vie   \n",
       "\n",
       "                                           Genre Date de sortie  \\\n",
       "6006                           [Drame, Histoire]     2023-10-18   \n",
       "6428                              [Documentaire]     2023-09-16   \n",
       "7006  [Romance, Science-Fiction, Drame, Comédie]     2023-10-27   \n",
       "7041         [Action, Aventure, Crime, Téléfilm]     2023-10-26   \n",
       "7446                                     [Drame]     2023-10-26   \n",
       "7477                              [Documentaire]     2023-10-30   \n",
       "8384        [Téléfilm, Thriller, Drame, Comédie]     2023-10-30   \n",
       "\n",
       "                                               Synopsis  Note  \n",
       "6006  L'histoire vraie de la nageuse américaine, Dia...   0.0  \n",
       "6428  Sa passion pour le cinéma est née du besoin d'...   0.0  \n",
       "7006  Comment avoir la certitude qu'on a trouvé l'am...   0.0  \n",
       "7041  Paul Vilar, ancien des Forces Spéciales, avec ...   0.0  \n",
       "7446  Buenos Aires, années 80. Après le retour de la...   0.0  \n",
       "7477  Le Baiser de Gustav Klimt est l’un des tableau...   0.0  \n",
       "8384  À l'approche d'Halloween, Candice accompagne A...   0.0  "
      ]
     },
     "execution_count": 29,
     "metadata": {},
     "output_type": "execute_result"
    }
   ],
   "source": [
    "df[df['Note']==0]"
   ]
  },
  {
   "cell_type": "markdown",
   "metadata": {},
   "source": [
    "### 4.4 Synopsis"
   ]
  },
  {
   "cell_type": "code",
   "execution_count": 30,
   "metadata": {},
   "outputs": [
    {
     "data": {
      "text/plain": [
       "0       226\n",
       "1       373\n",
       "2       272\n",
       "3       627\n",
       "4       343\n",
       "       ... \n",
       "8888    623\n",
       "8889    361\n",
       "8890    366\n",
       "8891    513\n",
       "8892    620\n",
       "Name: Synopsis, Length: 8893, dtype: int64"
      ]
     },
     "execution_count": 30,
     "metadata": {},
     "output_type": "execute_result"
    }
   ],
   "source": [
    "df.Synopsis.apply(lambda i : len(i))"
   ]
  },
  {
   "cell_type": "code",
   "execution_count": 31,
   "metadata": {},
   "outputs": [
    {
     "data": {
      "text/plain": [
       "<Axes: >"
      ]
     },
     "execution_count": 31,
     "metadata": {},
     "output_type": "execute_result"
    },
    {
     "data": {
      "image/png": "[encoded data removed]",
      "text/plain": [
       "<Figure size 1000x400 with 1 Axes>"
      ]
     },
     "metadata": {},
     "output_type": "display_data"
    }
   ],
   "source": [
    "tmp = df.Synopsis.str.len()\n",
    "\n",
    "plt.figure(figsize=(10,4))\n",
    "sns.boxplot(tmp)"
   ]
  },
  {
   "cell_type": "code",
   "execution_count": 32,
   "metadata": {},
   "outputs": [
    {
     "data": {
      "text/plain": [
       "<seaborn.axisgrid.FacetGrid at 0x1e81b4224d0>"
      ]
     },
     "execution_count": 32,
     "metadata": {},
     "output_type": "execute_result"
    },
    {
     "data": {
      "image/png": "[encoded data removed]",
      "text/plain": [
       "<Figure size 500x500 with 1 Axes>"
      ]
     },
     "metadata": {},
     "output_type": "display_data"
    }
   ],
   "source": [
    "sns.displot(tmp)"
   ]
  },
  {
   "cell_type": "code",
   "execution_count": 33,
   "metadata": {},
   "outputs": [
    {
     "data": {
      "text/html": [
       "<div>\n",
       "<style scoped>\n",
       "    .dataframe tbody tr th:only-of-type {\n",
       "        vertical-align: middle;\n",
       "    }\n",
       "\n",
       "    .dataframe tbody tr th {\n",
       "        vertical-align: top;\n",
       "    }\n",
       "\n",
       "    .dataframe thead th {\n",
       "        text-align: right;\n",
       "    }\n",
       "</style>\n",
       "<table border=\"1\" class=\"dataframe\">\n",
       "  <thead>\n",
       "    <tr style=\"text-align: right;\">\n",
       "      <th></th>\n",
       "      <th>ID</th>\n",
       "      <th>Titre</th>\n",
       "      <th>Genre</th>\n",
       "      <th>Date de sortie</th>\n",
       "      <th>Synopsis</th>\n",
       "      <th>Note</th>\n",
       "      <th>len_txt</th>\n",
       "    </tr>\n",
       "  </thead>\n",
       "  <tbody>\n",
       "    <tr>\n",
       "      <th>0</th>\n",
       "      <td>507089</td>\n",
       "      <td>Five Nights at Freddy's</td>\n",
       "      <td>[Horreur, Mystère]</td>\n",
       "      <td>2023-10-25</td>\n",
       "      <td>Un groupe d'animaux animatroniques interprète ...</td>\n",
       "      <td>8.4</td>\n",
       "      <td>226</td>\n",
       "    </tr>\n",
       "    <tr>\n",
       "      <th>1</th>\n",
       "      <td>951491</td>\n",
       "      <td>Saw X</td>\n",
       "      <td>[Horreur, Thriller]</td>\n",
       "      <td>2023-09-26</td>\n",
       "      <td>Dans l'espoir d'une guérison miraculeuse, John...</td>\n",
       "      <td>7.4</td>\n",
       "      <td>373</td>\n",
       "    </tr>\n",
       "    <tr>\n",
       "      <th>2</th>\n",
       "      <td>939335</td>\n",
       "      <td>Muzzle</td>\n",
       "      <td>[Action, Crime, Drame, Thriller]</td>\n",
       "      <td>2023-09-29</td>\n",
       "      <td>Jake Rosser, officier de police dans l'équipe ...</td>\n",
       "      <td>6.3</td>\n",
       "      <td>272</td>\n",
       "    </tr>\n",
       "    <tr>\n",
       "      <th>3</th>\n",
       "      <td>354912</td>\n",
       "      <td>Coco</td>\n",
       "      <td>[Familial, Animation, Fantastique, Musique, Co...</td>\n",
       "      <td>2017-10-27</td>\n",
       "      <td>Depuis déjà plusieurs générations, la musique ...</td>\n",
       "      <td>8.2</td>\n",
       "      <td>627</td>\n",
       "    </tr>\n",
       "    <tr>\n",
       "      <th>4</th>\n",
       "      <td>968051</td>\n",
       "      <td>La Nonne : La Malédiction de Sainte-Lucie</td>\n",
       "      <td>[Horreur, Mystère, Thriller]</td>\n",
       "      <td>2023-09-06</td>\n",
       "      <td>En France, en 1956, un prêtre est assassiné da...</td>\n",
       "      <td>7.0</td>\n",
       "      <td>343</td>\n",
       "    </tr>\n",
       "  </tbody>\n",
       "</table>\n",
       "</div>"
      ],
      "text/plain": [
       "       ID                                      Titre  \\\n",
       "0  507089                    Five Nights at Freddy's   \n",
       "1  951491                                      Saw X   \n",
       "2  939335                                     Muzzle   \n",
       "3  354912                                       Coco   \n",
       "4  968051  La Nonne : La Malédiction de Sainte-Lucie   \n",
       "\n",
       "                                               Genre Date de sortie  \\\n",
       "0                                 [Horreur, Mystère]     2023-10-25   \n",
       "1                                [Horreur, Thriller]     2023-09-26   \n",
       "2                   [Action, Crime, Drame, Thriller]     2023-09-29   \n",
       "3  [Familial, Animation, Fantastique, Musique, Co...     2017-10-27   \n",
       "4                       [Horreur, Mystère, Thriller]     2023-09-06   \n",
       "\n",
       "                                            Synopsis  Note  len_txt  \n",
       "0  Un groupe d'animaux animatroniques interprète ...   8.4      226  \n",
       "1  Dans l'espoir d'une guérison miraculeuse, John...   7.4      373  \n",
       "2  Jake Rosser, officier de police dans l'équipe ...   6.3      272  \n",
       "3  Depuis déjà plusieurs générations, la musique ...   8.2      627  \n",
       "4  En France, en 1956, un prêtre est assassiné da...   7.0      343  "
      ]
     },
     "execution_count": 33,
     "metadata": {},
     "output_type": "execute_result"
    }
   ],
   "source": [
    "df['len_txt'] = tmp\n",
    "df.head(5)"
   ]
  },
  {
   "cell_type": "code",
   "execution_count": 34,
   "metadata": {},
   "outputs": [
    {
     "data": {
      "text/html": [
       "<div>\n",
       "<style scoped>\n",
       "    .dataframe tbody tr th:only-of-type {\n",
       "        vertical-align: middle;\n",
       "    }\n",
       "\n",
       "    .dataframe tbody tr th {\n",
       "        vertical-align: top;\n",
       "    }\n",
       "\n",
       "    .dataframe thead th {\n",
       "        text-align: right;\n",
       "    }\n",
       "</style>\n",
       "<table border=\"1\" class=\"dataframe\">\n",
       "  <thead>\n",
       "    <tr style=\"text-align: right;\">\n",
       "      <th></th>\n",
       "      <th>ID</th>\n",
       "      <th>Titre</th>\n",
       "      <th>Genre</th>\n",
       "      <th>Date de sortie</th>\n",
       "      <th>Synopsis</th>\n",
       "      <th>Note</th>\n",
       "      <th>len_txt</th>\n",
       "    </tr>\n",
       "  </thead>\n",
       "  <tbody>\n",
       "    <tr>\n",
       "      <th>3945</th>\n",
       "      <td>36362</td>\n",
       "      <td>Le Roi des rois</td>\n",
       "      <td>[Drame, Fantastique]</td>\n",
       "      <td>1961-10-11</td>\n",
       "      <td>Péplum retraçant la vie de Jésus.</td>\n",
       "      <td>7.1</td>\n",
       "      <td>33</td>\n",
       "    </tr>\n",
       "    <tr>\n",
       "      <th>6306</th>\n",
       "      <td>347183</td>\n",
       "      <td>Haikyu !! - Film 1 - Un début et une fin</td>\n",
       "      <td>[Animation, Comédie, Drame]</td>\n",
       "      <td>2015-07-03</td>\n",
       "      <td>Premier Haikyuu !! film récapitulatif. Ld</td>\n",
       "      <td>8.5</td>\n",
       "      <td>41</td>\n",
       "    </tr>\n",
       "    <tr>\n",
       "      <th>7591</th>\n",
       "      <td>44363</td>\n",
       "      <td>Frozen</td>\n",
       "      <td>[Thriller]</td>\n",
       "      <td>2010-02-05</td>\n",
       "      <td>Trois skieurs sont bloqués sur un télésiège...</td>\n",
       "      <td>6.0</td>\n",
       "      <td>46</td>\n",
       "    </tr>\n",
       "    <tr>\n",
       "      <th>4992</th>\n",
       "      <td>876716</td>\n",
       "      <td>Ciao Alberto</td>\n",
       "      <td>[Animation, Comédie, Familial, Fantastique]</td>\n",
       "      <td>2021-11-12</td>\n",
       "      <td>Spin-off de Luca, des studios d’animation Pixar.</td>\n",
       "      <td>7.5</td>\n",
       "      <td>48</td>\n",
       "    </tr>\n",
       "    <tr>\n",
       "      <th>5395</th>\n",
       "      <td>336445</td>\n",
       "      <td>Army of One</td>\n",
       "      <td>[Comédie]</td>\n",
       "      <td>2016-11-04</td>\n",
       "      <td>Un homme décide de traquer seul Oussama Ben La...</td>\n",
       "      <td>5.2</td>\n",
       "      <td>50</td>\n",
       "    </tr>\n",
       "    <tr>\n",
       "      <th>5060</th>\n",
       "      <td>52212</td>\n",
       "      <td>Miranda</td>\n",
       "      <td>[Comédie, Romance]</td>\n",
       "      <td>1985-10-15</td>\n",
       "      <td>Miranda cherche un mari et essaye plusieurs ho...</td>\n",
       "      <td>5.2</td>\n",
       "      <td>51</td>\n",
       "    </tr>\n",
       "    <tr>\n",
       "      <th>6039</th>\n",
       "      <td>706972</td>\n",
       "      <td>Narco Sub</td>\n",
       "      <td>[Action]</td>\n",
       "      <td>2021-01-22</td>\n",
       "      <td>Un homme deviendra un criminel pour sauver sa ...</td>\n",
       "      <td>6.6</td>\n",
       "      <td>54</td>\n",
       "    </tr>\n",
       "    <tr>\n",
       "      <th>6476</th>\n",
       "      <td>286554</td>\n",
       "      <td>Aventure d'un soir</td>\n",
       "      <td>[Romance, Comédie]</td>\n",
       "      <td>2014-09-26</td>\n",
       "      <td>Un couple se retrouve pris au piège lors d'une...</td>\n",
       "      <td>6.4</td>\n",
       "      <td>55</td>\n",
       "    </tr>\n",
       "    <tr>\n",
       "      <th>6066</th>\n",
       "      <td>184341</td>\n",
       "      <td>Hands of Stone</td>\n",
       "      <td>[Drame]</td>\n",
       "      <td>2016-08-26</td>\n",
       "      <td>Retour sur la carrière du boxeur panaméen Robe...</td>\n",
       "      <td>6.5</td>\n",
       "      <td>56</td>\n",
       "    </tr>\n",
       "    <tr>\n",
       "      <th>2632</th>\n",
       "      <td>12110</td>\n",
       "      <td>Dracula, mort et heureux de l’être</td>\n",
       "      <td>[Comédie, Horreur]</td>\n",
       "      <td>1995-12-22</td>\n",
       "      <td>Le \"Dracula\" de Bram Stoker revu et corrigé pa...</td>\n",
       "      <td>6.0</td>\n",
       "      <td>59</td>\n",
       "    </tr>\n",
       "  </tbody>\n",
       "</table>\n",
       "</div>"
      ],
      "text/plain": [
       "          ID                                     Titre  \\\n",
       "3945   36362                           Le Roi des rois   \n",
       "6306  347183  Haikyu !! - Film 1 - Un début et une fin   \n",
       "7591   44363                                    Frozen   \n",
       "4992  876716                              Ciao Alberto   \n",
       "5395  336445                               Army of One   \n",
       "5060   52212                                   Miranda   \n",
       "6039  706972                                 Narco Sub   \n",
       "6476  286554                        Aventure d'un soir   \n",
       "6066  184341                            Hands of Stone   \n",
       "2632   12110        Dracula, mort et heureux de l’être   \n",
       "\n",
       "                                            Genre Date de sortie  \\\n",
       "3945                         [Drame, Fantastique]     1961-10-11   \n",
       "6306                  [Animation, Comédie, Drame]     2015-07-03   \n",
       "7591                                   [Thriller]     2010-02-05   \n",
       "4992  [Animation, Comédie, Familial, Fantastique]     2021-11-12   \n",
       "5395                                    [Comédie]     2016-11-04   \n",
       "5060                           [Comédie, Romance]     1985-10-15   \n",
       "6039                                     [Action]     2021-01-22   \n",
       "6476                           [Romance, Comédie]     2014-09-26   \n",
       "6066                                      [Drame]     2016-08-26   \n",
       "2632                           [Comédie, Horreur]     1995-12-22   \n",
       "\n",
       "                                               Synopsis  Note  len_txt  \n",
       "3945                  Péplum retraçant la vie de Jésus.   7.1       33  \n",
       "6306          Premier Haikyuu !! film récapitulatif. Ld   8.5       41  \n",
       "7591     Trois skieurs sont bloqués sur un télésiège...   6.0       46  \n",
       "4992   Spin-off de Luca, des studios d’animation Pixar.   7.5       48  \n",
       "5395  Un homme décide de traquer seul Oussama Ben La...   5.2       50  \n",
       "5060  Miranda cherche un mari et essaye plusieurs ho...   5.2       51  \n",
       "6039  Un homme deviendra un criminel pour sauver sa ...   6.6       54  \n",
       "6476  Un couple se retrouve pris au piège lors d'une...   6.4       55  \n",
       "6066  Retour sur la carrière du boxeur panaméen Robe...   6.5       56  \n",
       "2632  Le \"Dracula\" de Bram Stoker revu et corrigé pa...   6.0       59  "
      ]
     },
     "execution_count": 34,
     "metadata": {},
     "output_type": "execute_result"
    }
   ],
   "source": [
    "df.sort_values(\"len_txt\").head(10)"
   ]
  },
  {
   "cell_type": "code",
   "execution_count": 35,
   "metadata": {},
   "outputs": [
    {
     "data": {
      "text/html": [
       "<div>\n",
       "<style scoped>\n",
       "    .dataframe tbody tr th:only-of-type {\n",
       "        vertical-align: middle;\n",
       "    }\n",
       "\n",
       "    .dataframe tbody tr th {\n",
       "        vertical-align: top;\n",
       "    }\n",
       "\n",
       "    .dataframe thead th {\n",
       "        text-align: right;\n",
       "    }\n",
       "</style>\n",
       "<table border=\"1\" class=\"dataframe\">\n",
       "  <thead>\n",
       "    <tr style=\"text-align: right;\">\n",
       "      <th></th>\n",
       "      <th>ID</th>\n",
       "      <th>Titre</th>\n",
       "      <th>Genre</th>\n",
       "      <th>Date de sortie</th>\n",
       "      <th>Synopsis</th>\n",
       "      <th>Note</th>\n",
       "      <th>len_txt</th>\n",
       "    </tr>\n",
       "  </thead>\n",
       "  <tbody>\n",
       "    <tr>\n",
       "      <th>1391</th>\n",
       "      <td>44912</td>\n",
       "      <td>Green Lantern</td>\n",
       "      <td>[Aventure, Action, Thriller, Science-Fiction]</td>\n",
       "      <td>2011-06-14</td>\n",
       "      <td>Dans un univers aussi vaste que mystérieux, un...</td>\n",
       "      <td>5.2</td>\n",
       "      <td>993</td>\n",
       "    </tr>\n",
       "    <tr>\n",
       "      <th>5158</th>\n",
       "      <td>1683</td>\n",
       "      <td>Les Châtiments</td>\n",
       "      <td>[Horreur]</td>\n",
       "      <td>2007-04-05</td>\n",
       "      <td>Katherine Winter a quitté l'habit de missionna...</td>\n",
       "      <td>5.7</td>\n",
       "      <td>993</td>\n",
       "    </tr>\n",
       "    <tr>\n",
       "      <th>3902</th>\n",
       "      <td>302401</td>\n",
       "      <td>Snowden</td>\n",
       "      <td>[Drame, Histoire, Crime, Thriller]</td>\n",
       "      <td>2016-09-15</td>\n",
       "      <td>Patriote idéaliste et enthousiaste, le jeune E...</td>\n",
       "      <td>7.1</td>\n",
       "      <td>993</td>\n",
       "    </tr>\n",
       "    <tr>\n",
       "      <th>2590</th>\n",
       "      <td>1493</td>\n",
       "      <td>Miss Détective</td>\n",
       "      <td>[Comédie, Crime, Action]</td>\n",
       "      <td>2000-12-22</td>\n",
       "      <td>L’agent Gracie Hart travaille dans un commando...</td>\n",
       "      <td>6.5</td>\n",
       "      <td>993</td>\n",
       "    </tr>\n",
       "    <tr>\n",
       "      <th>7724</th>\n",
       "      <td>43258</td>\n",
       "      <td>La Loi du Seigneur</td>\n",
       "      <td>[Drame, Histoire, Guerre, Familial, Comédie]</td>\n",
       "      <td>1956-11-25</td>\n",
       "      <td>La famille Birdwell vit dans l'Indiana en 1862...</td>\n",
       "      <td>6.6</td>\n",
       "      <td>994</td>\n",
       "    </tr>\n",
       "    <tr>\n",
       "      <th>6725</th>\n",
       "      <td>213681</td>\n",
       "      <td>Les Cerveaux</td>\n",
       "      <td>[Action, Comédie, Crime]</td>\n",
       "      <td>2016-09-29</td>\n",
       "      <td>La vie de David Ghantt n’a rien de compliqué. ...</td>\n",
       "      <td>5.7</td>\n",
       "      <td>995</td>\n",
       "    </tr>\n",
       "    <tr>\n",
       "      <th>7788</th>\n",
       "      <td>13384</td>\n",
       "      <td>Kes</td>\n",
       "      <td>[Drame]</td>\n",
       "      <td>1970-04-03</td>\n",
       "      <td>Billy Casper vit dans une petite ville minière...</td>\n",
       "      <td>7.5</td>\n",
       "      <td>998</td>\n",
       "    </tr>\n",
       "    <tr>\n",
       "      <th>7421</th>\n",
       "      <td>6878</td>\n",
       "      <td>L'Incroyable Voyage</td>\n",
       "      <td>[Aventure, Comédie, Familial]</td>\n",
       "      <td>1993-02-03</td>\n",
       "      <td>Le film raconte les aventures de Shadow, un go...</td>\n",
       "      <td>6.9</td>\n",
       "      <td>998</td>\n",
       "    </tr>\n",
       "    <tr>\n",
       "      <th>4179</th>\n",
       "      <td>9550</td>\n",
       "      <td>Le Secret des poignards volants</td>\n",
       "      <td>[Aventure, Drame, Action]</td>\n",
       "      <td>2004-05-19</td>\n",
       "      <td>En cette année 859, la Chine est ravagée par l...</td>\n",
       "      <td>7.3</td>\n",
       "      <td>998</td>\n",
       "    </tr>\n",
       "    <tr>\n",
       "      <th>3593</th>\n",
       "      <td>618344</td>\n",
       "      <td>Justice League Dark: Apokolips War</td>\n",
       "      <td>[Animation, Action, Science-Fiction]</td>\n",
       "      <td>2020-05-05</td>\n",
       "      <td>Suite à ses deux invasions ratées de la Terre,...</td>\n",
       "      <td>8.3</td>\n",
       "      <td>999</td>\n",
       "    </tr>\n",
       "  </tbody>\n",
       "</table>\n",
       "</div>"
      ],
      "text/plain": [
       "          ID                               Titre  \\\n",
       "1391   44912                       Green Lantern   \n",
       "5158    1683                      Les Châtiments   \n",
       "3902  302401                             Snowden   \n",
       "2590    1493                      Miss Détective   \n",
       "7724   43258                  La Loi du Seigneur   \n",
       "6725  213681                        Les Cerveaux   \n",
       "7788   13384                                 Kes   \n",
       "7421    6878                 L'Incroyable Voyage   \n",
       "4179    9550     Le Secret des poignards volants   \n",
       "3593  618344  Justice League Dark: Apokolips War   \n",
       "\n",
       "                                              Genre Date de sortie  \\\n",
       "1391  [Aventure, Action, Thriller, Science-Fiction]     2011-06-14   \n",
       "5158                                      [Horreur]     2007-04-05   \n",
       "3902             [Drame, Histoire, Crime, Thriller]     2016-09-15   \n",
       "2590                       [Comédie, Crime, Action]     2000-12-22   \n",
       "7724   [Drame, Histoire, Guerre, Familial, Comédie]     1956-11-25   \n",
       "6725                       [Action, Comédie, Crime]     2016-09-29   \n",
       "7788                                        [Drame]     1970-04-03   \n",
       "7421                  [Aventure, Comédie, Familial]     1993-02-03   \n",
       "4179                      [Aventure, Drame, Action]     2004-05-19   \n",
       "3593           [Animation, Action, Science-Fiction]     2020-05-05   \n",
       "\n",
       "                                               Synopsis  Note  len_txt  \n",
       "1391  Dans un univers aussi vaste que mystérieux, un...   5.2      993  \n",
       "5158  Katherine Winter a quitté l'habit de missionna...   5.7      993  \n",
       "3902  Patriote idéaliste et enthousiaste, le jeune E...   7.1      993  \n",
       "2590  L’agent Gracie Hart travaille dans un commando...   6.5      993  \n",
       "7724  La famille Birdwell vit dans l'Indiana en 1862...   6.6      994  \n",
       "6725  La vie de David Ghantt n’a rien de compliqué. ...   5.7      995  \n",
       "7788  Billy Casper vit dans une petite ville minière...   7.5      998  \n",
       "7421  Le film raconte les aventures de Shadow, un go...   6.9      998  \n",
       "4179  En cette année 859, la Chine est ravagée par l...   7.3      998  \n",
       "3593  Suite à ses deux invasions ratées de la Terre,...   8.3      999  "
      ]
     },
     "execution_count": 35,
     "metadata": {},
     "output_type": "execute_result"
    }
   ],
   "source": [
    "df.sort_values(\"len_txt\").tail(10)"
   ]
  },
  {
   "cell_type": "markdown",
   "metadata": {},
   "source": [
    "### 4.5 Multivariate analysis"
   ]
  },
  {
   "cell_type": "code",
   "execution_count": 36,
   "metadata": {},
   "outputs": [
    {
     "data": {
      "text/html": [
       "<div>\n",
       "<style scoped>\n",
       "    .dataframe tbody tr th:only-of-type {\n",
       "        vertical-align: middle;\n",
       "    }\n",
       "\n",
       "    .dataframe tbody tr th {\n",
       "        vertical-align: top;\n",
       "    }\n",
       "\n",
       "    .dataframe thead th {\n",
       "        text-align: right;\n",
       "    }\n",
       "</style>\n",
       "<table border=\"1\" class=\"dataframe\">\n",
       "  <thead>\n",
       "    <tr style=\"text-align: right;\">\n",
       "      <th></th>\n",
       "      <th>ID</th>\n",
       "      <th>Note</th>\n",
       "      <th>len_txt</th>\n",
       "    </tr>\n",
       "  </thead>\n",
       "  <tbody>\n",
       "    <tr>\n",
       "      <th>ID</th>\n",
       "      <td>1.000000</td>\n",
       "      <td>-0.015686</td>\n",
       "      <td>-0.247123</td>\n",
       "    </tr>\n",
       "    <tr>\n",
       "      <th>Note</th>\n",
       "      <td>-0.015686</td>\n",
       "      <td>1.000000</td>\n",
       "      <td>0.067133</td>\n",
       "    </tr>\n",
       "    <tr>\n",
       "      <th>len_txt</th>\n",
       "      <td>-0.247123</td>\n",
       "      <td>0.067133</td>\n",
       "      <td>1.000000</td>\n",
       "    </tr>\n",
       "  </tbody>\n",
       "</table>\n",
       "</div>"
      ],
      "text/plain": [
       "               ID      Note   len_txt\n",
       "ID       1.000000 -0.015686 -0.247123\n",
       "Note    -0.015686  1.000000  0.067133\n",
       "len_txt -0.247123  0.067133  1.000000"
      ]
     },
     "execution_count": 36,
     "metadata": {},
     "output_type": "execute_result"
    }
   ],
   "source": [
    "corr = df.corr()\n",
    "corr"
   ]
  },
  {
   "cell_type": "code",
   "execution_count": 37,
   "metadata": {},
   "outputs": [
    {
     "data": {
      "text/plain": [
       "<Axes: >"
      ]
     },
     "execution_count": 37,
     "metadata": {},
     "output_type": "execute_result"
    },
    {
     "data": {
      "image/png": "[encoded data removed]",
      "text/plain": [
       "<Figure size 640x480 with 2 Axes>"
      ]
     },
     "metadata": {},
     "output_type": "display_data"
    }
   ],
   "source": [
    "sns.heatmap(corr)"
   ]
  },
  {
   "cell_type": "code",
   "execution_count": 38,
   "metadata": {},
   "outputs": [],
   "source": [
    "df.to_csv(\"df_movies_cleaned.csv\", index=False)"
   ]
  }
 ],
 "metadata": {
  "kernelspec": {
   "display_name": "Python 3",
   "language": "python",
   "name": "python3"
  },
  "language_info": {
   "codemirror_mode": {
    "name": "ipython",
    "version": 3
   },
   "file_extension": ".py",
   "mimetype": "text/x-python",
   "name": "python",
   "nbconvert_exporter": "python",
   "pygments_lexer": "ipython3",
   "version": "3.11.3"
  }
 },
 "nbformat": 4,
 "nbformat_minor": 2
}
